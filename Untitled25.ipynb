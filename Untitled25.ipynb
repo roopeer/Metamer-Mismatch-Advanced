{
  "nbformat": 4,
  "nbformat_minor": 0,
  "metadata": {
    "colab": {
      "provenance": []
    },
    "kernelspec": {
      "name": "python3",
      "display_name": "Python 3"
    },
    "language_info": {
      "name": "python"
    }
  },
  "cells": [
    {
      "cell_type": "code",
      "execution_count": 1,
      "metadata": {
        "colab": {
          "base_uri": "https://localhost:8080/"
        },
        "id": "BuGHKY1DCBCw",
        "outputId": "f802bc8b-6532-4f60-e971-2abf1554b682"
      },
      "outputs": [
        {
          "output_type": "stream",
          "name": "stdout",
          "text": [
            "Cloning into 'Metamer-Mismatch-Simple'...\n",
            "remote: Enumerating objects: 45, done.\u001b[K\n",
            "remote: Counting objects: 100% (45/45), done.\u001b[K\n",
            "remote: Compressing objects: 100% (43/43), done.\u001b[K\n",
            "remote: Total 45 (delta 20), reused 0 (delta 0), pack-reused 0\u001b[K\n",
            "Unpacking objects: 100% (45/45), 1.06 MiB | 1.03 MiB/s, done.\n"
          ]
        }
      ],
      "source": [
        "!git clone https://github.com/roopeer/Metamer-Mismatch-Simple.git"
      ]
    },
    {
      "cell_type": "code",
      "source": [
        "!pip install colour-science==0.4.2"
      ],
      "metadata": {
        "colab": {
          "base_uri": "https://localhost:8080/"
        },
        "id": "rYKj_W9-CpRS",
        "outputId": "612c38d5-0648-4f5d-a57f-7f4ac5d87d99"
      },
      "execution_count": 2,
      "outputs": [
        {
          "output_type": "stream",
          "name": "stdout",
          "text": [
            "Looking in indexes: https://pypi.org/simple, https://us-python.pkg.dev/colab-wheels/public/simple/\n",
            "Collecting colour-science==0.4.2\n",
            "  Downloading colour_science-0.4.2-py3-none-any.whl (2.3 MB)\n",
            "\u001b[2K     \u001b[90m━━━━━━━━━━━━━━━━━━━━━━━━━━━━━━━━━━━━━━━━\u001b[0m \u001b[32m2.3/2.3 MB\u001b[0m \u001b[31m13.6 MB/s\u001b[0m eta \u001b[36m0:00:00\u001b[0m\n",
            "\u001b[?25hRequirement already satisfied: imageio<3,>=2 in /usr/local/lib/python3.10/dist-packages (from colour-science==0.4.2) (2.25.1)\n",
            "Requirement already satisfied: numpy<2,>=1.20 in /usr/local/lib/python3.10/dist-packages (from colour-science==0.4.2) (1.22.4)\n",
            "Requirement already satisfied: scipy<2,>=1.7 in /usr/local/lib/python3.10/dist-packages (from colour-science==0.4.2) (1.10.1)\n",
            "Requirement already satisfied: typing-extensions<5,>=4 in /usr/local/lib/python3.10/dist-packages (from colour-science==0.4.2) (4.5.0)\n",
            "Requirement already satisfied: pillow>=8.3.2 in /usr/local/lib/python3.10/dist-packages (from imageio<3,>=2->colour-science==0.4.2) (8.4.0)\n",
            "Installing collected packages: colour-science\n",
            "Successfully installed colour-science-0.4.2\n"
          ]
        }
      ]
    },
    {
      "cell_type": "code",
      "source": [
        "xyz_obs = colour.MSDS_CMFS['CIE 1964 10 Degree Standard Observer'].interpolate(standard_visible_range).values\n",
        "nikon_obs = colour.MSDS_CAMERA_SENSITIVITIES['Nikon 5100 (NPL)'].interpolate(standard_visible_range).values\n",
        "print(xyz_obs.shape, nikon_obs.shape)"
      ],
      "metadata": {
        "colab": {
          "base_uri": "https://localhost:8080/"
        },
        "id": "gcJohOmRjLTC",
        "outputId": "90a65c97-d931-40cc-eee8-0b38f00b6e40"
      },
      "execution_count": 22,
      "outputs": [
        {
          "output_type": "stream",
          "name": "stdout",
          "text": [
            "(31, 3) (31, 3)\n"
          ]
        }
      ]
    },
    {
      "cell_type": "code",
      "source": [
        "!cp /content/Metamer-Mismatch-Simple/mmb.py /content/Metamer-Mismatch-Simple/mmb_svd.py"
      ],
      "metadata": {
        "id": "EEb4VCaB78n-"
      },
      "execution_count": 31,
      "outputs": []
    },
    {
      "cell_type": "code",
      "source": [
        "!cd Metamer-Mismatch-Simple/ && python3 main.py cie_1964_10 none D65 D65"
      ],
      "metadata": {
        "id": "D0-BhCcmCSoX"
      },
      "execution_count": 49,
      "outputs": []
    },
    {
      "cell_type": "code",
      "source": [
        "!pip install PyGEL3D"
      ],
      "metadata": {
        "colab": {
          "base_uri": "https://localhost:8080/"
        },
        "id": "VLr02733BVs8",
        "outputId": "3f8d329e-338b-4260-ef40-8b8f82665ee6"
      },
      "execution_count": 44,
      "outputs": [
        {
          "output_type": "stream",
          "name": "stdout",
          "text": [
            "Looking in indexes: https://pypi.org/simple, https://us-python.pkg.dev/colab-wheels/public/simple/\n",
            "Requirement already satisfied: PyGEL3D in /usr/local/lib/python3.10/dist-packages (0.3.2)\n",
            "Requirement already satisfied: numpy in /usr/local/lib/python3.10/dist-packages (from PyGEL3D) (1.22.4)\n",
            "Requirement already satisfied: plotly in /usr/local/lib/python3.10/dist-packages (from PyGEL3D) (5.13.1)\n",
            "Requirement already satisfied: scipy in /usr/local/lib/python3.10/dist-packages (from PyGEL3D) (1.10.1)\n",
            "Requirement already satisfied: tenacity>=6.2.0 in /usr/local/lib/python3.10/dist-packages (from plotly->PyGEL3D) (8.2.2)\n",
            "\u001b[31mERROR: Operation cancelled by user\u001b[0m\u001b[31m\n",
            "\u001b[0m"
          ]
        }
      ]
    },
    {
      "cell_type": "code",
      "source": [
        "!ls"
      ],
      "metadata": {
        "colab": {
          "base_uri": "https://localhost:8080/"
        },
        "id": "_J0Men1mCaSb",
        "outputId": "f9956472-1b2e-4853-a01c-b605162874b3"
      },
      "execution_count": null,
      "outputs": [
        {
          "output_type": "stream",
          "name": "stdout",
          "text": [
            "Metamer-Mismatch-Simple  sample_data\n"
          ]
        }
      ]
    },
    {
      "cell_type": "code",
      "source": [
        "import colour-science"
      ],
      "metadata": {
        "colab": {
          "base_uri": "https://localhost:8080/",
          "height": 133
        },
        "id": "8KdqHxrQERu0",
        "outputId": "1d25447a-cb2e-4307-a29a-aee2e9d9a46e"
      },
      "execution_count": 8,
      "outputs": [
        {
          "output_type": "error",
          "ename": "SyntaxError",
          "evalue": "ignored",
          "traceback": [
            "\u001b[0;36m  File \u001b[0;32m\"<ipython-input-8-f4956c5c82d0>\"\u001b[0;36m, line \u001b[0;32m1\u001b[0m\n\u001b[0;31m    import colour-science\u001b[0m\n\u001b[0m                 ^\u001b[0m\n\u001b[0;31mSyntaxError\u001b[0m\u001b[0;31m:\u001b[0m invalid syntax\n"
          ]
        }
      ]
    },
    {
      "cell_type": "code",
      "source": [
        "standard_visible_range = colour.SpectralShape(400, 700, 10)\n",
        "'Wright & Guild 1931 2 Degree RGB CMFs'\n",
        "colour.MSDS_CMFS['CIE 1931 2 Degree Standard Observer'].interpolate(standard_visible_range).values.shape"
      ],
      "metadata": {
        "id": "moEw2mORCbhi",
        "colab": {
          "base_uri": "https://localhost:8080/"
        },
        "outputId": "42dc2773-c70a-44fe-d6a3-9c189996771b"
      },
      "execution_count": 24,
      "outputs": [
        {
          "output_type": "execute_result",
          "data": {
            "text/plain": [
              "(31, 3)"
            ]
          },
          "metadata": {},
          "execution_count": 24
        }
      ]
    },
    {
      "cell_type": "code",
      "source": [
        "import numpy as np\n",
        "\n",
        "def cst(rgb):\n",
        "    matrix = np.array([[2.768, 1.751, 1.130], \n",
        "                       [1.000, 4.590, 0.060],\n",
        "                       [0, 0.056, 5.594]])\n",
        "    return matrix @ rgb\n",
        "\n",
        "rgb = np.array([128., 128., 128])\n",
        "print(cst(rgb))"
      ],
      "metadata": {
        "colab": {
          "base_uri": "https://localhost:8080/"
        },
        "id": "fvjKCUqEEPx6",
        "outputId": "81cf4548-c18c-4c43-c101-2f503aaa7f3c"
      },
      "execution_count": 16,
      "outputs": [
        {
          "output_type": "stream",
          "name": "stdout",
          "text": [
            "[ 723.072  723.2    723.2  ]\n"
          ]
        }
      ]
    },
    {
      "cell_type": "code",
      "source": [
        "colour.SDS_ILLUMINANTS['D65'].interpolate(standard_visible_range).values"
      ],
      "metadata": {
        "colab": {
          "base_uri": "https://localhost:8080/"
        },
        "id": "hu5Afqz3tX1T",
        "outputId": "ac03df08-923e-4b7c-89aa-7c59019ec3ea"
      },
      "execution_count": 35,
      "outputs": [
        {
          "output_type": "execute_result",
          "data": {
            "text/plain": [
              "array([  82.7549,   91.486 ,   93.4318,   86.6823,  104.865 ,  117.008 ,\n",
              "        117.812 ,  114.861 ,  115.923 ,  108.811 ,  109.354 ,  107.802 ,\n",
              "        104.79  ,  107.689 ,  104.405 ,  104.046 ,  100.    ,   96.3342,\n",
              "         95.788 ,   88.6856,   90.0062,   89.5991,   87.6987,   83.2886,\n",
              "         83.6992,   80.0268,   80.2146,   82.2778,   78.2842,   69.7213,\n",
              "         71.6091])"
            ]
          },
          "metadata": {},
          "execution_count": 35
        }
      ]
    },
    {
      "cell_type": "code",
      "source": [
        "colour.MSDS_CMFS['CIE 1931 2 Degree Standard Observer'].interpolate(standard_visible_range).values"
      ],
      "metadata": {
        "colab": {
          "base_uri": "https://localhost:8080/"
        },
        "id": "JDXZW9D6SrBi",
        "outputId": "74645124-98c1-4ab8-ece4-244c6ffcbad4"
      },
      "execution_count": 18,
      "outputs": [
        {
          "output_type": "execute_result",
          "data": {
            "text/plain": [
              "array([[  1.43100000e-02,   3.96000000e-04,   6.78500100e-02],\n",
              "       [  4.35100000e-02,   1.21000000e-03,   2.07400000e-01],\n",
              "       [  1.34380000e-01,   4.00000000e-03,   6.45600000e-01],\n",
              "       [  2.83900000e-01,   1.16000000e-02,   1.38560000e+00],\n",
              "       [  3.48280000e-01,   2.30000000e-02,   1.74706000e+00],\n",
              "       [  3.36200000e-01,   3.80000000e-02,   1.77211000e+00],\n",
              "       [  2.90800000e-01,   6.00000000e-02,   1.66920000e+00],\n",
              "       [  1.95360000e-01,   9.09800000e-02,   1.28764000e+00],\n",
              "       [  9.56400000e-02,   1.39020000e-01,   8.12950100e-01],\n",
              "       [  3.20100000e-02,   2.08020000e-01,   4.65180000e-01],\n",
              "       [  4.90000000e-03,   3.23000000e-01,   2.72000000e-01],\n",
              "       [  9.30000000e-03,   5.03000000e-01,   1.58200000e-01],\n",
              "       [  6.32700000e-02,   7.10000000e-01,   7.82499900e-02],\n",
              "       [  1.65500000e-01,   8.62000000e-01,   4.21600000e-02],\n",
              "       [  2.90400000e-01,   9.54000000e-01,   2.03000000e-02],\n",
              "       [  4.33449900e-01,   9.94950100e-01,   8.74999900e-03],\n",
              "       [  5.94500000e-01,   9.95000000e-01,   3.90000000e-03],\n",
              "       [  7.62100000e-01,   9.52000000e-01,   2.10000000e-03],\n",
              "       [  9.16300000e-01,   8.70000000e-01,   1.65000100e-03],\n",
              "       [  1.02630000e+00,   7.57000000e-01,   1.10000000e-03],\n",
              "       [  1.06220000e+00,   6.31000000e-01,   8.00000000e-04],\n",
              "       [  1.00260000e+00,   5.03000000e-01,   3.40000000e-04],\n",
              "       [  8.54449900e-01,   3.81000000e-01,   1.90000000e-04],\n",
              "       [  6.42400000e-01,   2.65000000e-01,   4.99999900e-05],\n",
              "       [  4.47900000e-01,   1.75000000e-01,   2.00000000e-05],\n",
              "       [  2.83500000e-01,   1.07000000e-01,  -1.69406589e-20],\n",
              "       [  1.64900000e-01,   6.10000000e-02,  -1.69406589e-21],\n",
              "       [  8.74000000e-02,   3.20000000e-02,  -8.47032947e-22],\n",
              "       [  4.67700000e-02,   1.70000000e-02,   1.88079096e-37],\n",
              "       [  2.27000000e-02,   8.21000000e-03,  -1.41059322e-37],\n",
              "       [  1.13591600e-02,   4.10200000e-03,  -5.87747175e-39]])"
            ]
          },
          "metadata": {},
          "execution_count": 18
        }
      ]
    },
    {
      "cell_type": "code",
      "source": [],
      "metadata": {
        "id": "NqHTS6zWcdhM"
      },
      "execution_count": null,
      "outputs": []
    }
  ]
}